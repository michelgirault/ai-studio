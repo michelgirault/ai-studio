{
 "cells": [
  {
   "cell_type": "code",
   "execution_count": null,
   "id": "36821340",
   "metadata": {},
   "outputs": [],
   "source": [
    "#set path for bin folder\n",
    "export PATH=\"$HOME/.local/bin:$PATH\""
   ]
  },
  {
   "cell_type": "code",
   "execution_count": null,
   "id": "46d0d31d",
   "metadata": {},
   "outputs": [],
   "source": [
    "#go to the apps folder \n",
    "cd apps"
   ]
  },
  {
   "cell_type": "code",
   "execution_count": null,
   "id": "cea75e0e-fcf6-459a-aeab-d87993118654",
   "metadata": {
    "tags": []
   },
   "outputs": [],
   "source": [
    "#download all files from git\n",
    "git clone --depth 1 https://github.com/hiyouga/LLaMA-Factory.git"
   ]
  },
  {
   "cell_type": "code",
   "execution_count": null,
   "id": "f2d4a7f0",
   "metadata": {},
   "outputs": [],
   "source": [
    "#create local env\n",
    "python3 -m venv LLaMa-Factory"
   ]
  },
  {
   "cell_type": "code",
   "execution_count": null,
   "id": "08a80f23-017d-4eb9-8c3e-d12254d738a6",
   "metadata": {
    "tags": []
   },
   "outputs": [],
   "source": [
    "#enter the git repository \n",
    "source LLaMA-Factory/bin/activate\n",
    "cd LLaMA-Factory"
   ]
  },
  {
   "cell_type": "code",
   "execution_count": null,
   "id": "41a98c3e-d031-40f1-844f-3edc08d90b3f",
   "metadata": {
    "tags": []
   },
   "outputs": [],
   "source": [
    "pip install -e .[torch,metrics]"
   ]
  },
  {
   "cell_type": "code",
   "execution_count": null,
   "id": "5cf62d5b-92cc-439f-92d2-a929fcc286aa",
   "metadata": {
    "tags": []
   },
   "outputs": [],
   "source": [
    "CUDA_VISIBLE_DEVICES=0 GRADIO_SHARE=1 llamafactory-cli webui"
   ]
  }
 ],
 "metadata": {
  "kernelspec": {
   "display_name": "Python 3 (ipykernel)",
   "language": "python",
   "name": "python3"
  },
  "language_info": {
   "codemirror_mode": {
    "name": "ipython",
    "version": 3
   },
   "file_extension": ".py",
   "mimetype": "text/x-python",
   "name": "python",
   "nbconvert_exporter": "python",
   "pygments_lexer": "ipython3",
   "version": "3.11.6"
  }
 },
 "nbformat": 4,
 "nbformat_minor": 5
}
