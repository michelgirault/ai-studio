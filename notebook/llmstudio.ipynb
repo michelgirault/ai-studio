{
 "cells": [
  {
   "cell_type": "code",
   "execution_count": null,
   "metadata": {},
   "outputs": [],
   "source": [
    "#this notebook download and install stable diffusion webui for fine tuning and testing including the use of S3 as model and datasets repostory\n",
    "#declaration of variable to be use\n",
    "export HF_TOKEN=\n",
    "export HF_USERNAME=\n",
    "#details for git folders\n",
    "export HF_REPO_LLAVA=LLaVA-proto\n",
    "export HF_REPO_LLAMA=Llama-2-proto\n",
    "export HF_REPO_SD=sd-2-proto"
   ]
  },
  {
   "cell_type": "code",
   "execution_count": null,
   "metadata": {},
   "outputs": [],
   "source": [
    "#go to the home folder to run\n",
    "cd apps"
   ]
  },
  {
   "cell_type": "code",
   "execution_count": null,
   "metadata": {},
   "outputs": [],
   "source": [
    "#clone the llmstudio\n",
    "git clone https://github.com/h2oai/h2o-llmstudio.git"
   ]
  },
  {
   "cell_type": "code",
   "execution_count": null,
   "metadata": {},
   "outputs": [],
   "source": [
    "#create local env\n",
    "python3 -m venv h2o-llmstudio\n",
    "source h2o-llmstudio/bin/activate"
   ]
  },
  {
   "cell_type": "code",
   "execution_count": null,
   "metadata": {},
   "outputs": [],
   "source": [
    "cd h2o-llmstudio"
   ]
  },
  {
   "cell_type": "code",
   "execution_count": null,
   "metadata": {},
   "outputs": [],
   "source": [
    "#run llmstudio\n",
    "make llmstudio"
   ]
  }
 ],
 "metadata": {
  "language_info": {
   "name": "python"
  }
 },
 "nbformat": 4,
 "nbformat_minor": 2
}
