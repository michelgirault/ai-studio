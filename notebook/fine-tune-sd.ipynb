{
 "cells": [
  {
   "cell_type": "code",
   "execution_count": null,
   "id": "72406aaf",
   "metadata": {},
   "outputs": [],
   "source": [
    "#set the credentials for s3\n",
    "!aws configure set aws_access_key_id \"b571c50d11f24686a19910aed8111782\"\n",
    "!aws configure set aws_secret_access_key \"426c3a7eed8f4ee4b62095fcb4c6c9b0\""
   ]
  },
  {
   "cell_type": "code",
   "execution_count": null,
   "id": "bce766ab-cf56-46f0-8a8f-ad743893aaad",
   "metadata": {
    "tags": []
   },
   "outputs": [],
   "source": [
    "#get the latest git repo for sd web ui\n",
    "!git clone https://github.com/AUTOMATIC1111/stable-diffusion-webui.git apps/stable-diffusion-webui/"
   ]
  },
  {
   "cell_type": "code",
   "execution_count": null,
   "id": "f5f3b30f",
   "metadata": {},
   "outputs": [],
   "source": [
    "#create virtual env\n",
    "!python3 -m venv apps/stable-diffusion-webui"
   ]
  },
  {
   "cell_type": "code",
   "execution_count": null,
   "id": "c6d289e2-579f-43af-b469-285e664d907c",
   "metadata": {
    "tags": []
   },
   "outputs": [],
   "source": [
    "%%bash\n",
    "source apps/stable-diffusion-webui/bin/activate"
   ]
  },
  {
   "cell_type": "code",
   "execution_count": null,
   "id": "5cc53113",
   "metadata": {},
   "outputs": [],
   "source": [
    "%cd apps/stable-diffusion-webui\n",
    "#install missing package\n",
    "%pip install wheel \n",
    "#install additional libraries and dependencies\n",
    "%pip install perftool fastapi pickleshare perftool --no-input"
   ]
  },
  {
   "cell_type": "code",
   "execution_count": null,
   "id": "ba5521f6",
   "metadata": {},
   "outputs": [],
   "source": [
    "#install main req\n",
    "%pip install -r requirements.txt"
   ]
  },
  {
   "cell_type": "code",
   "execution_count": null,
   "id": "7bde799e",
   "metadata": {},
   "outputs": [],
   "source": [
    "#get the datasets\n",
    "!aws s3 sync --endpoint-url=https://s3.pub1.infomaniak.cloud s3://lumimai-bucket/datasets/images /app/datasets --no-progress"
   ]
  },
  {
   "cell_type": "code",
   "execution_count": null,
   "id": "4d65f2e4",
   "metadata": {},
   "outputs": [],
   "source": [
    "#change the env variable backend\n",
    "%env MPLBACKEND=notebook "
   ]
  },
  {
   "cell_type": "code",
   "execution_count": null,
   "id": "c8be0dcb-805b-4a1f-8c0a-d4d671c7fa79",
   "metadata": {
    "tags": []
   },
   "outputs": [],
   "source": [
    "\n",
    "!bash webui.sh -f --share=true"
   ]
  }
 ],
 "metadata": {
  "kernelspec": {
   "display_name": "Python 3 (ipykernel)",
   "language": "python",
   "name": "python3"
  },
  "language_info": {
   "codemirror_mode": {
    "name": "ipython",
    "version": 3
   },
   "file_extension": ".py",
   "mimetype": "text/x-python",
   "name": "python",
   "nbconvert_exporter": "python",
   "pygments_lexer": "ipython3",
   "version": "3.11.6"
  }
 },
 "nbformat": 4,
 "nbformat_minor": 5
}
