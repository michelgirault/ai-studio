{
 "cells": [
  {
   "cell_type": "code",
   "execution_count": null,
   "id": "c6f31d49-d9df-4989-afd8-cf7ef9252cb8",
   "metadata": {
    "tags": []
   },
   "outputs": [],
   "source": [
    "#check the folder\n",
    "cd apps"
   ]
  },
  {
   "cell_type": "code",
   "execution_count": null,
   "id": "bce766ab-cf56-46f0-8a8f-ad743893aaad",
   "metadata": {
    "tags": []
   },
   "outputs": [],
   "source": [
    "git clone https://github.com/AUTOMATIC1111/stable-diffusion-webui.git"
   ]
  },
  {
   "cell_type": "code",
   "execution_count": null,
   "id": "f5f3b30f",
   "metadata": {},
   "outputs": [],
   "source": [
    "#create virtual env\n",
    "python3 -m venv stable-diffusion-webui"
   ]
  },
  {
   "cell_type": "code",
   "execution_count": null,
   "id": "c6d289e2-579f-43af-b469-285e664d907c",
   "metadata": {
    "tags": []
   },
   "outputs": [],
   "source": [
    "cd stable-diffusion-webui\n",
    "source bin/activate"
   ]
  },
  {
   "cell_type": "code",
   "execution_count": null,
   "id": "05a76e49-c14c-4885-9dbc-f06361cc5087",
   "metadata": {
    "tags": []
   },
   "outputs": [],
   "source": [
    "#install pytorch cuda\n",
    "pip install --pre torch torchvision torchaudio --index-url https://download.pytorch.org/whl/nightly/cu121"
   ]
  },
  {
   "cell_type": "code",
   "execution_count": null,
   "id": "638743f2-7ace-439c-89f1-f41d34274859",
   "metadata": {
    "tags": []
   },
   "outputs": [],
   "source": [
    "#install additional libraries and dependencies\n",
    "pip install perftool fastapi pickleshare perftool --no-input"
   ]
  },
  {
   "cell_type": "code",
   "execution_count": null,
   "id": "c8be0dcb-805b-4a1f-8c0a-d4d671c7fa79",
   "metadata": {
    "tags": []
   },
   "outputs": [],
   "source": [
    "\n",
    "bash webui.sh"
   ]
  }
 ],
 "metadata": {
  "kernelspec": {
   "display_name": "Python 3 (ipykernel)",
   "language": "python",
   "name": "python3"
  },
  "language_info": {
   "codemirror_mode": {
    "name": "ipython",
    "version": 3
   },
   "file_extension": ".py",
   "mimetype": "text/x-python",
   "name": "python",
   "nbconvert_exporter": "python",
   "pygments_lexer": "ipython3",
   "version": "3.11.6"
  }
 },
 "nbformat": 4,
 "nbformat_minor": 5
}
