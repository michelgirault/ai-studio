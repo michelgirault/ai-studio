{
 "cells": [
  {
   "cell_type": "code",
   "execution_count": null,
   "id": "72406aaf",
   "metadata": {},
   "outputs": [],
   "source": [
    "#detail variable config\n",
    "#template for env variable use for the ai studio app\n",
    "#repo information\n",
    "SD_REPO_NAME = \"sd\"\n",
    "S3_REPO = $S3_BUCKET+$SD_REPO_NAME\n",
    "\n",
    "#S3\n",
    "S3_HOST= \"\"\n",
    "S3_BUCKET= \"\"\n",
    "S3_ACCESS_KEY= \"\"\n",
    "S3_SECRET_KEY= \"\"\n",
    "S3_DATASETS_FOLDER= \"\"\n",
    "\n",
    "#local folder\n",
    "MODEL_LOCALPATH="
   ]
  },
  {
   "cell_type": "code",
   "execution_count": null,
   "id": "bce766ab-cf56-46f0-8a8f-ad743893aaad",
   "metadata": {
    "tags": []
   },
   "outputs": [],
   "source": [
    "#get the latest git repo for sd web ui\n",
    "!git clone https://github.com/AUTOMATIC1111/stable-diffusion-webui.git apps/stable-diffusion-webui/"
   ]
  },
  {
   "cell_type": "code",
   "execution_count": null,
   "id": "f5f3b30f",
   "metadata": {},
   "outputs": [],
   "source": [
    "#create virtual env\n",
    "!python3 -m venv apps/stable-diffusion-webui"
   ]
  },
  {
   "cell_type": "code",
   "execution_count": null,
   "id": "c6d289e2-579f-43af-b469-285e664d907c",
   "metadata": {
    "tags": []
   },
   "outputs": [],
   "source": [
    "%%bash\n",
    "source apps/stable-diffusion-webui/bin/activate"
   ]
  },
  {
   "cell_type": "code",
   "execution_count": null,
   "id": "5cc53113",
   "metadata": {},
   "outputs": [],
   "source": [
    "%cd apps/stable-diffusion-webui\n",
    "#install missing package\n",
    "%pip install wheel \n",
    "#install additional libraries and dependencies\n",
    "%pip install perftool fastapi pickleshare perftool --no-input"
   ]
  },
  {
   "cell_type": "code",
   "execution_count": null,
   "id": "ba5521f6",
   "metadata": {},
   "outputs": [],
   "source": [
    "#install main req\n",
    "%pip install -r requirements.txt"
   ]
  },
  {
   "cell_type": "code",
   "execution_count": null,
   "id": "7bde799e",
   "metadata": {},
   "outputs": [],
   "source": [
    "!s3cmd sync $S3_REPO $MODEL_LOCALPATH --host=$S3_HOST --host-bucket=$S3_BUCKET --secret_key=$S3_SECRET_KEY --access_key=$S3_ACCESS_KEY"
   ]
  },
  {
   "cell_type": "code",
   "execution_count": null,
   "id": "4d65f2e4",
   "metadata": {},
   "outputs": [],
   "source": [
    "#change the env variable backend\n",
    "%env MPLBACKEND=notebook "
   ]
  },
  {
   "cell_type": "code",
   "execution_count": null,
   "id": "c8be0dcb-805b-4a1f-8c0a-d4d671c7fa79",
   "metadata": {
    "tags": []
   },
   "outputs": [],
   "source": [
    "\n",
    "!bash webui.sh -f --share=true"
   ]
  }
 ],
 "metadata": {
  "kernelspec": {
   "display_name": "Python 3 (ipykernel)",
   "language": "python",
   "name": "python3"
  },
  "language_info": {
   "codemirror_mode": {
    "name": "ipython",
    "version": 3
   },
   "file_extension": ".py",
   "mimetype": "text/x-python",
   "name": "python",
   "nbconvert_exporter": "python",
   "pygments_lexer": "ipython3",
   "version": "3.11.6"
  }
 },
 "nbformat": 4,
 "nbformat_minor": 5
}
