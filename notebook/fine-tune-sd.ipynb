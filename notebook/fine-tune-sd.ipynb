{
 "cells": [
  {
   "cell_type": "code",
   "execution_count": null,
   "id": "7504d4bd",
   "metadata": {},
   "outputs": [],
   "source": [
    "import os"
   ]
  },
  {
   "cell_type": "code",
   "execution_count": null,
   "id": "72406aaf",
   "metadata": {},
   "outputs": [],
   "source": [
    "#config s3 \n",
    "!aws configure set aws_access_key_id $aws_access_key_id\n",
    "!aws configure set aws_secret_access_key $aws_secret_access_key"
   ]
  },
  {
   "cell_type": "code",
   "execution_count": null,
   "id": "bce766ab-cf56-46f0-8a8f-ad743893aaad",
   "metadata": {
    "tags": []
   },
   "outputs": [],
   "source": [
    "#get the latest git repo for sd web ui\n",
    "!git clone https://github.com/AUTOMATIC1111/stable-diffusion-webui.git apps/stable-diffusion-webui/\n",
    "!git clone --recursive https://github.com/bmaltais/kohya_ss.git apps/kohya/"
   ]
  },
  {
   "cell_type": "code",
   "execution_count": null,
   "id": "f5f3b30f",
   "metadata": {},
   "outputs": [],
   "source": [
    "#create virtual env\n",
    "!python3 -m venv apps/stable-diffusion-webui"
   ]
  },
  {
   "cell_type": "code",
   "execution_count": null,
   "id": "c6d289e2-579f-43af-b469-285e664d907c",
   "metadata": {
    "tags": []
   },
   "outputs": [],
   "source": [
    "%%bash\n",
    "source apps/stable-diffusion-webui/bin/activate"
   ]
  },
  {
   "cell_type": "code",
   "execution_count": null,
   "id": "5cc53113",
   "metadata": {},
   "outputs": [],
   "source": [
    "%cd apps/stable-diffusion-webui\n",
    "\n",
    "\n",
    "#install missing package\n",
    "%pip install wheel --no-cache-dir\n",
    "#install additional libraries and dependencies\n",
    "%pip install perftool fastapi pickleshare perftool --no-input --no-cache-dir"
   ]
  },
  {
   "cell_type": "code",
   "execution_count": null,
   "id": "ba5521f6",
   "metadata": {},
   "outputs": [],
   "source": [
    "#install main req\n",
    "%pip install -r requirements.txt --no-cache-dir"
   ]
  },
  {
   "cell_type": "code",
   "execution_count": null,
   "id": "7bde799e",
   "metadata": {},
   "outputs": [],
   "source": [
    "#get the datasets\n",
    "!aws s3 sync --endpoint-url=$S3_ENDPOINT s3://$S3_BUCKET=$ $S3_DATASETS_FOLDER --no-progress --quiet"
   ]
  },
  {
   "cell_type": "code",
   "execution_count": null,
   "id": "b36999ce",
   "metadata": {},
   "outputs": [],
   "source": [
    "#get the models for fine tuning\n",
    "!huggingface-cli download --token $HF_TOKEN stabilityai/stable-diffusion-2 --local-dir $PWD\n",
    "!huggingface-cli download --token $HF_TOKEN \n",
    "--local-dir $PWD\n"
   ]
  },
  {
   "cell_type": "code",
   "execution_count": null,
   "id": "b4399ebd",
   "metadata": {},
   "outputs": [],
   "source": []
  },
  {
   "cell_type": "code",
   "execution_count": null,
   "id": "4d65f2e4",
   "metadata": {},
   "outputs": [],
   "source": [
    "#change the env variable backend\n",
    "%env MPLBACKEND=notebook "
   ]
  },
  {
   "cell_type": "code",
   "execution_count": null,
   "id": "c8be0dcb-805b-4a1f-8c0a-d4d671c7fa79",
   "metadata": {
    "tags": []
   },
   "outputs": [],
   "source": [
    "\n",
    "#!bash webui.sh -f --share --listen\n",
    "!chmod +x ./setup.sh\n",
    "!./setup.sh"
   ]
  }
 ],
 "metadata": {
  "kernelspec": {
   "display_name": "Python 3 (ipykernel)",
   "language": "python",
   "name": "python3"
  },
  "language_info": {
   "codemirror_mode": {
    "name": "ipython",
    "version": 3
   },
   "file_extension": ".py",
   "mimetype": "text/x-python",
   "name": "python",
   "nbconvert_exporter": "python",
   "pygments_lexer": "ipython3",
   "version": "3.11.6"
  }
 },
 "nbformat": 4,
 "nbformat_minor": 5
}
