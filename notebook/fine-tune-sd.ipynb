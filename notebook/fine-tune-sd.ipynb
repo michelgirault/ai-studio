{
 "cells": [
  {
   "cell_type": "code",
   "execution_count": null,
   "id": "72406aaf",
   "metadata": {},
   "outputs": [],
   "source": [
    "#this notebook download and install stable diffusion webui for fine tuning and testing including the use of S3 as model and datasets repostory\n",
    "#declaration of variable to be use\n",
    "export HF_TOKEN=\n",
    "export HF_USERNAME=\n",
    "#details for git folders\n",
    "export HF_REPO_SD=michelgi/sd-2-proto\n",
    "#general information about the model folder\n",
    "export SD_FOLDER= models/Stable-diffusion/"
   ]
  },
  {
   "cell_type": "code",
   "execution_count": null,
   "id": "c6f31d49-d9df-4989-afd8-cf7ef9252cb8",
   "metadata": {
    "tags": []
   },
   "outputs": [],
   "source": [
    "#check the folder\n",
    "cd apps"
   ]
  },
  {
   "cell_type": "code",
   "execution_count": null,
   "id": "bce766ab-cf56-46f0-8a8f-ad743893aaad",
   "metadata": {
    "tags": []
   },
   "outputs": [],
   "source": [
    "git clone https://github.com/AUTOMATIC1111/stable-diffusion-webui.git"
   ]
  },
  {
   "cell_type": "code",
   "execution_count": null,
   "id": "f5f3b30f",
   "metadata": {},
   "outputs": [],
   "source": [
    "#create virtual env\n",
    "python3 -m venv stable-diffusion-webui"
   ]
  },
  {
   "cell_type": "code",
   "execution_count": null,
   "id": "c6d289e2-579f-43af-b469-285e664d907c",
   "metadata": {
    "tags": []
   },
   "outputs": [],
   "source": [
    "cd stable-diffusion-webui\n",
    "source bin/activate"
   ]
  },
  {
   "cell_type": "code",
   "execution_count": null,
   "id": "5cc53113",
   "metadata": {},
   "outputs": [],
   "source": [
    "#install missing package\n",
    "pip install wheel \n",
    "#install additional libraries and dependencies\n",
    "pip install perftool fastapi pickleshare perftool --no-input"
   ]
  },
  {
   "cell_type": "code",
   "execution_count": null,
   "id": "ba5521f6",
   "metadata": {},
   "outputs": [],
   "source": [
    "pip install -r requirements.txt"
   ]
  },
  {
   "cell_type": "code",
   "execution_count": null,
   "id": "0f640d27",
   "metadata": {},
   "outputs": [],
   "source": [
    "pip install xformers"
   ]
  },
  {
   "cell_type": "code",
   "execution_count": null,
   "id": "7bde799e",
   "metadata": {},
   "outputs": [],
   "source": [
    "#create a folder and download the models for fine tuning\n",
    "mkdir ${SD_FOLDER}\n",
    "huggingface-cli login --token ${HF_TOKEN}\n",
    "huggingface-cli download ${HF_REPO_SD} local_dir=${SD_FOLDER}"
   ]
  },
  {
   "cell_type": "code",
   "execution_count": null,
   "id": "c8be0dcb-805b-4a1f-8c0a-d4d671c7fa79",
   "metadata": {
    "tags": []
   },
   "outputs": [],
   "source": [
    "\n",
    "bash webui.sh --xformers"
   ]
  }
 ],
 "metadata": {
  "kernelspec": {
   "display_name": "Python 3 (ipykernel)",
   "language": "python",
   "name": "python3"
  },
  "language_info": {
   "codemirror_mode": {
    "name": "ipython",
    "version": 3
   },
   "file_extension": ".py",
   "mimetype": "text/x-python",
   "name": "python",
   "nbconvert_exporter": "python",
   "pygments_lexer": "ipython3",
   "version": "3.11.6"
  }
 },
 "nbformat": 4,
 "nbformat_minor": 5
}
