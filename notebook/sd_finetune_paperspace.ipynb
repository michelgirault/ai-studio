{
 "cells": [
  {
   "cell_type": "code",
   "execution_count": null,
   "id": "4c0af538-341d-45cf-8569-235480ab9750",
   "metadata": {
    "tags": []
   },
   "outputs": [],
   "source": [
    "!git clone https://github.com/AUTOMATIC1111/stable-diffusion-webui.git apps/stable-diffusion-webui/"
   ]
  },
  {
   "cell_type": "code",
   "execution_count": null,
   "id": "09fea378-a359-4b7a-ab85-39d547e89582",
   "metadata": {
    "execution": {
     "iopub.execute_input": "2024-08-24T11:50:48.721210Z",
     "iopub.status.busy": "2024-08-24T11:50:48.720382Z",
     "iopub.status.idle": "2024-08-24T11:50:48.884614Z",
     "shell.execute_reply": "2024-08-24T11:50:48.883324Z",
     "shell.execute_reply.started": "2024-08-24T11:50:48.721185Z"
    },
    "tags": []
   },
   "outputs": [],
   "source": [
    "%cd apps/stable-diffusion-webui"
   ]
  },
  {
   "cell_type": "code",
   "execution_count": null,
   "id": "a7a697d3",
   "metadata": {},
   "outputs": [],
   "source": [
    "#get base model\n",
    "!wget https://huggingface.co/stabilityai/stable-diffusion-2-1-base/resolve/main/v2-1_512-ema-pruned.ckpt -O models/Stable-diffusion/v2-1_512-ema-pruned.ckpt\n",
    "!wget https://raw.githubusercontent.com/Stability-AI/stablediffusion/main/configs/stable-diffusion/v2-inference.yaml -O models/Stable-diffusion/v2-1_512-ema-pruned.yaml"
   ]
  },
  {
   "cell_type": "code",
   "execution_count": null,
   "id": "70538556-e3f3-446c-915b-4a06735c9a5b",
   "metadata": {
    "execution": {
     "iopub.execute_input": "2024-08-24T11:51:34.338057Z",
     "iopub.status.busy": "2024-08-24T11:51:34.338057Z"
    }
   },
   "outputs": [],
   "source": [
    "!python launch.py --share  --gradio-auth me:qwerty"
   ]
  }
 ],
 "metadata": {
  "kernelspec": {
   "display_name": "Python 3 (ipykernel)",
   "language": "python",
   "name": "python3"
  },
  "language_info": {
   "codemirror_mode": {
    "name": "ipython",
    "version": 3
   },
   "file_extension": ".py",
   "mimetype": "text/x-python",
   "name": "python",
   "nbconvert_exporter": "python",
   "pygments_lexer": "ipython3",
   "version": "3.11.7"
  }
 },
 "nbformat": 4,
 "nbformat_minor": 5
}
