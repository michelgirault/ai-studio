{
 "cells": [
  {
   "cell_type": "code",
   "execution_count": null,
   "id": "72c87455-575c-4f89-8314-0cc9534ba5e5",
   "metadata": {},
   "outputs": [],
   "source": [
    "!git clone https://github.com/huggingface/diffusers"
   ]
  },
  {
   "cell_type": "code",
   "execution_count": 2,
   "id": "16b835c6-91a2-462b-8c87-29a02ee93f98",
   "metadata": {},
   "outputs": [],
   "source": [
    "!python3 -m venv diffusers"
   ]
  },
  {
   "cell_type": "code",
   "execution_count": 3,
   "id": "dd6eb1d6-d122-4666-beff-c17264772418",
   "metadata": {},
   "outputs": [],
   "source": [
    "%%bash\n",
    "source diffusers/bin/activate"
   ]
  },
  {
   "cell_type": "code",
   "execution_count": null,
   "id": "77fa7cb9-ccfe-4a0a-a495-fd2b76ea64fc",
   "metadata": {},
   "outputs": [],
   "source": [
    "%cd diffusers\n",
    "!pip install .\n",
    "!pip install datasets\n",
    "!pip install wandb\n",
    "!pip install -r requirements_sd3.txt"
   ]
  },
  {
   "cell_type": "code",
   "execution_count": null,
   "id": "fea86e21-d090-4bd1-b472-3f8dea9be8c9",
   "metadata": {},
   "outputs": [],
   "source": [
    "!accelerate config default"
   ]
  },
  {
   "cell_type": "code",
   "execution_count": null,
   "id": "e302e4fe-9f98-4cd3-b6d9-9ed76c40df5d",
   "metadata": {},
   "outputs": [
    {
     "name": "stdout",
     "output_type": "stream",
     "text": [
      "env: MODEL_NAME=stabilityai/sdxl-turbo\n",
      "env: VAE_NAME=madebyollin/sdxl-vae-fp16-fix\n",
      "env: DATASET_NAME=lambdalabs/naruto-blip-captions\n"
     ]
    }
   ],
   "source": [
    "%set_env MODEL_NAME=stabilityai/stable-diffusion-3.5-medium\n",
    "%set_env DATASET_NAME=bhomik7/flat-UI-dataset-small\n",
    "%set_env HF_TOKEN="
   ]
  },
  {
   "cell_type": "code",
   "execution_count": null,
   "id": "65eff66b-208b-466d-bff2-3044898dc0fd",
   "metadata": {},
   "outputs": [],
   "source": [
    "!huggingface-cli login --token $HF_TOKEN"
   ]
  },
  {
   "cell_type": "code",
   "execution_count": null,
   "id": "fc4844eb-0190-47cf-9c29-9b4474d8b172",
   "metadata": {},
   "outputs": [],
   "source": [
    "accelerate launch train_dreambooth_lora_sd3.py   \n",
    "--pretrained_model_name_or_path=\"stabilityai/stable-diffusion-3.5-medium\"  \n",
    "--dataset_name=\"bhomik7/flat-UI-dataset-extended\"  \n",
    "--validation_prompt=\"\"\"Create a modern user interface design for a mobile application \n",
    "that focuses on fitness tracking. The layout should include a vibrant dashboard \n",
    "displaying key metrics such as steps taken, calories burned, and workout summaries. \n",
    "Incorporate interactive elements like buttons for starting workouts, viewing progress, \n",
    "and accessing nutrition information. Use a color palette that conveys energy and \n",
    "motivation, with clear typography and intuitive navigation.\"\"\"  \n",
    "--num_validation_images=5  \n",
    "--validation_epochs=1  \n",
    "--output_dir=\"sd_3_5m_dreambooth_lora_ft_HIGH_CONFIG\"\n",
    "--train_text_encoder \n",
    "--rank=4 \n",
    "--resolution=1024  \n",
    "--train_batch_size=1  \n",
    "--num_train_epochs=20  \n",
    "--checkpointing_steps=500  \n",
    "--gradient_accumulation_steps=4  \n",
    "--learning_rate=1e-04  \n",
    "--lr_warmup_steps=10000  \n",
    "--report_to=\"wandb\"  \n",
    "--mixed_precision=\"bf16\"  \n",
    "--push_to_hub \n",
    "--instance_prompt=\"A beautiful <TOK> UI for music app\"\n",
    "--caption_column='text'"
   ]
  },
  {
   "cell_type": "code",
   "execution_count": null,
   "id": "0dfe621a-d9c7-41cd-95b0-449abc3ab75a",
   "metadata": {},
   "outputs": [],
   "source": []
  }
 ],
 "metadata": {
  "kernelspec": {
   "display_name": "Python 3 (ipykernel)",
   "language": "python",
   "name": "python3"
  },
  "language_info": {
   "codemirror_mode": {
    "name": "ipython",
    "version": 3
   },
   "file_extension": ".py",
   "mimetype": "text/x-python",
   "name": "python",
   "nbconvert_exporter": "python",
   "pygments_lexer": "ipython3",
   "version": "3.10.12"
  }
 },
 "nbformat": 4,
 "nbformat_minor": 5
}
