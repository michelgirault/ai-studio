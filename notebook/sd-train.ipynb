{
 "cells": [
  {
   "cell_type": "code",
   "execution_count": null,
   "id": "72c87455-575c-4f89-8314-0cc9534ba5e5",
   "metadata": {},
   "outputs": [],
   "source": [
    "!git clone https://github.com/huggingface/diffusers"
   ]
  },
  {
   "cell_type": "code",
   "execution_count": 2,
   "id": "16b835c6-91a2-462b-8c87-29a02ee93f98",
   "metadata": {},
   "outputs": [],
   "source": [
    "!python3 -m venv diffusers"
   ]
  },
  {
   "cell_type": "code",
   "execution_count": 3,
   "id": "dd6eb1d6-d122-4666-beff-c17264772418",
   "metadata": {},
   "outputs": [],
   "source": [
    "%%bash\n",
    "source diffusers/bin/activate"
   ]
  },
  {
   "cell_type": "code",
   "execution_count": null,
   "id": "77fa7cb9-ccfe-4a0a-a495-fd2b76ea64fc",
   "metadata": {},
   "outputs": [],
   "source": [
    "%cd diffusers\n",
    "!pip install ."
   ]
  },
  {
   "cell_type": "code",
   "execution_count": null,
   "id": "fea86e21-d090-4bd1-b472-3f8dea9be8c9",
   "metadata": {},
   "outputs": [],
   "source": [
    "!accelerate config default"
   ]
  },
  {
   "cell_type": "code",
   "execution_count": null,
   "id": "85a00d59-3d15-46ba-9848-08e8010dc93c",
   "metadata": {},
   "outputs": [],
   "source": [
    "%cd examples/text_to_image\n",
    "!pip install -r requirements_sdxl.txt"
   ]
  },
  {
   "cell_type": "code",
   "execution_count": 7,
   "id": "e302e4fe-9f98-4cd3-b6d9-9ed76c40df5d",
   "metadata": {},
   "outputs": [
    {
     "name": "stdout",
     "output_type": "stream",
     "text": [
      "env: MODEL_NAME=stabilityai/sdxl-turbo\n",
      "env: VAE_NAME=madebyollin/sdxl-vae-fp16-fix\n",
      "env: DATASET_NAME=lambdalabs/naruto-blip-captions\n"
     ]
    }
   ],
   "source": [
    "%set_env MODEL_NAME=stabilityai/sdxl-turbo\n",
    "%set_env VAE_NAME=madebyollin/sdxl-vae-fp16-fix\n",
    "%set_env DATASET_NAME=lambdalabs/naruto-blip-captions"
   ]
  },
  {
   "cell_type": "code",
   "execution_count": null,
   "id": "65eff66b-208b-466d-bff2-3044898dc0fd",
   "metadata": {},
   "outputs": [],
   "source": [
    "!huggingface-cli login --token "
   ]
  },
  {
   "cell_type": "code",
   "execution_count": null,
   "id": "3677bcfe-92d9-4f37-b6aa-9c6db91e17e4",
   "metadata": {},
   "outputs": [],
   "source": [
    "!pip install xformers --no-dependencies\n",
    "!pip install bitsandbytes"
   ]
  },
  {
   "cell_type": "code",
   "execution_count": null,
   "id": "fc4844eb-0190-47cf-9c29-9b4474d8b172",
   "metadata": {},
   "outputs": [],
   "source": [
    "!accelerate launch train_text_to_image_sdxl.py \\\n",
    "  --pretrained_model_name_or_path=$MODEL_NAME \\\n",
    "  --pretrained_vae_model_name_or_path=$VAE_NAME \\\n",
    "  --dataset_name=$DATASET_NAME \\\n",
    "  --enable_xformers_memory_efficient_attention \\\n",
    "  --resolution=512 \\\n",
    "  --center_crop \\\n",
    "  --random_flip \\\n",
    "  --proportion_empty_prompts=0.2 \\\n",
    "  --train_batch_size=1 \\\n",
    "  --gradient_accumulation_steps=4 \\\n",
    "  --gradient_checkpointing \\\n",
    "  --max_train_steps=10000 \\\n",
    "  --use_8bit_adam \\\n",
    "  --learning_rate=1e-06 \\\n",
    "  --lr_scheduler=\"constant\" \\\n",
    "  --lr_warmup_steps=0 \\\n",
    "  --mixed_precision=\"fp16\" \\\n",
    "  --validation_prompt=\"a cute Sundar Pichai creature\" \\\n",
    "  --validation_epochs 5 \\\n",
    "  --checkpointing_steps=5000 \\\n",
    "  --output_dir=\"sdxl-naruto-model\" \\\n",
    "  --push_to_hub"
   ]
  },
  {
   "cell_type": "code",
   "execution_count": null,
   "id": "0dfe621a-d9c7-41cd-95b0-449abc3ab75a",
   "metadata": {},
   "outputs": [],
   "source": []
  }
 ],
 "metadata": {
  "kernelspec": {
   "display_name": "Python 3 (ipykernel)",
   "language": "python",
   "name": "python3"
  },
  "language_info": {
   "codemirror_mode": {
    "name": "ipython",
    "version": 3
   },
   "file_extension": ".py",
   "mimetype": "text/x-python",
   "name": "python",
   "nbconvert_exporter": "python",
   "pygments_lexer": "ipython3",
   "version": "3.10.12"
  }
 },
 "nbformat": 4,
 "nbformat_minor": 5
}
